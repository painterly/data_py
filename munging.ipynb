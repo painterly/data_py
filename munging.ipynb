{
 "cells": [
  {
   "cell_type": "markdown",
   "metadata": {},
   "source": [
    "# Using Pandas for Analyzing Data - Data Munging"
   ]
  },
  {
   "cell_type": "markdown",
   "metadata": {},
   "source": [
    "### [wavedatalab.github.io](http://wavedatalab.github.io/datawithpython/index.html)"
   ]
  },
  {
   "cell_type": "code",
   "execution_count": 2,
   "metadata": {
    "collapsed": false
   },
   "outputs": [
    {
     "name": "stdout",
     "output_type": "stream",
     "text": [
      "Using matplotlib backend: Qt4Agg\n"
     ]
    }
   ],
   "source": [
    "%matplotlib\n",
    "import numpy as np\n",
    "import pandas as pd"
   ]
  },
  {
   "cell_type": "markdown",
   "metadata": {},
   "source": [
    "#### Read the csv file of your choice using Pandas"
   ]
  },
  {
   "cell_type": "code",
   "execution_count": 3,
   "metadata": {
    "collapsed": false
   },
   "outputs": [],
   "source": [
    "ver=pd.read_csv(\"ver.csv\")"
   ]
  },
  {
   "cell_type": "markdown",
   "metadata": {},
   "source": [
    "#### View the first few rows of the file and set the number of columns displayed. Note: Using ver.head() will display the first five rows."
   ]
  },
  {
   "cell_type": "code",
   "execution_count": 5,
   "metadata": {
    "collapsed": false
   },
   "outputs": [
    {
     "data": {
      "text/html": [
       "<div style=\"max-height:1000px;max-width:1500px;overflow:auto;\">\n",
       "<table border=\"1\" class=\"dataframe\">\n",
       "  <thead>\n",
       "    <tr style=\"text-align: right;\">\n",
       "      <th></th>\n",
       "      <th>action_taken</th>\n",
       "      <th>action_taken_name</th>\n",
       "      <th>agency_code</th>\n",
       "      <th>agency_abbr</th>\n",
       "      <th>agency_name</th>\n",
       "      <th>applicant_ethnicity</th>\n",
       "      <th>applicant_ethnicity_name</th>\n",
       "      <th>applicant_income_000s</th>\n",
       "      <th>applicant_race_1</th>\n",
       "      <th>applicant_race_name_1</th>\n",
       "      <th>applicant_sex</th>\n",
       "      <th>applicant_sex_name</th>\n",
       "      <th>census_tract_number</th>\n",
       "      <th>co_applicant_ethnicity</th>\n",
       "      <th>co_applicant_ethnicity_name</th>\n",
       "      <th>co_applicant_race_1</th>\n",
       "      <th>co_applicant_race_name_1</th>\n",
       "      <th>co_applicant_sex</th>\n",
       "      <th>co_applicant_sex_name</th>\n",
       "      <th>county_code</th>\n",
       "      <th>county_name</th>\n",
       "      <th>hoepa_status</th>\n",
       "      <th>hoepa_status_name</th>\n",
       "      <th>lien_status</th>\n",
       "      <th>lien_status_name</th>\n",
       "      <th>loan_purpose</th>\n",
       "      <th>loan_purpose_name</th>\n",
       "      <th>loan_type</th>\n",
       "      <th>loan_type_name</th>\n",
       "      <th>owner_occupancy</th>\n",
       "      <th>owner_occupancy_name</th>\n",
       "      <th>preapproval</th>\n",
       "      <th>preapproval_name</th>\n",
       "      <th>property_type</th>\n",
       "      <th>property_type_name</th>\n",
       "      <th>purchaser_type</th>\n",
       "      <th>purchaser_type_name</th>\n",
       "      <th>hud_median_family_income</th>\n",
       "      <th>loan_amount_000s</th>\n",
       "      <th>number_of_1_to_4_family_units</th>\n",
       "      <th>number_of_owner_occupied_units</th>\n",
       "      <th>minority_population</th>\n",
       "      <th>population</th>\n",
       "      <th>tract_to_msamd_income</th>\n",
       "      <th>logloanamt</th>\n",
       "      <th>logincome</th>\n",
       "    </tr>\n",
       "  </thead>\n",
       "  <tbody>\n",
       "    <tr>\n",
       "      <th>0</th>\n",
       "      <td> 1</td>\n",
       "      <td> Loan originated</td>\n",
       "      <td> 1</td>\n",
       "      <td>  OCC</td>\n",
       "      <td> Office of the Comptroller of the Currency</td>\n",
       "      <td> 2</td>\n",
       "      <td> Not Hispanic or Latino</td>\n",
       "      <td> 161</td>\n",
       "      <td> 5</td>\n",
       "      <td> White</td>\n",
       "      <td> 1</td>\n",
       "      <td> Male</td>\n",
       "      <td> 201</td>\n",
       "      <td> 2</td>\n",
       "      <td> Not Hispanic or Latino</td>\n",
       "      <td> 5</td>\n",
       "      <td> White</td>\n",
       "      <td> 2</td>\n",
       "      <td> Female</td>\n",
       "      <td> 13</td>\n",
       "      <td> Grand Isle County</td>\n",
       "      <td> 2</td>\n",
       "      <td> Not a HOEPA loan</td>\n",
       "      <td> 1</td>\n",
       "      <td> Secured by a first lien</td>\n",
       "      <td> 3</td>\n",
       "      <td>   Refinancing</td>\n",
       "      <td> 1</td>\n",
       "      <td> Conventional</td>\n",
       "      <td> 2</td>\n",
       "      <td> Not owner-occupied as a principal dwelling</td>\n",
       "      <td> 3</td>\n",
       "      <td>            Not applicable</td>\n",
       "      <td> 1</td>\n",
       "      <td> One-to-four family dwelling (other than manufa...</td>\n",
       "      <td> 1</td>\n",
       "      <td>                                 Fannie Mae (FNMA)</td>\n",
       "      <td> 76700</td>\n",
       "      <td> 200</td>\n",
       "      <td> 2681</td>\n",
       "      <td> 1186</td>\n",
       "      <td> 7.12</td>\n",
       "      <td> 3272</td>\n",
       "      <td>  80.459999</td>\n",
       "      <td> 5.298317</td>\n",
       "      <td> 5.081404</td>\n",
       "    </tr>\n",
       "    <tr>\n",
       "      <th>1</th>\n",
       "      <td> 1</td>\n",
       "      <td> Loan originated</td>\n",
       "      <td> 1</td>\n",
       "      <td>  OCC</td>\n",
       "      <td> Office of the Comptroller of the Currency</td>\n",
       "      <td> 2</td>\n",
       "      <td> Not Hispanic or Latino</td>\n",
       "      <td>  92</td>\n",
       "      <td> 2</td>\n",
       "      <td> Asian</td>\n",
       "      <td> 1</td>\n",
       "      <td> Male</td>\n",
       "      <td>  34</td>\n",
       "      <td> 2</td>\n",
       "      <td> Not Hispanic or Latino</td>\n",
       "      <td> 2</td>\n",
       "      <td> Asian</td>\n",
       "      <td> 2</td>\n",
       "      <td> Female</td>\n",
       "      <td>  7</td>\n",
       "      <td> Chittenden County</td>\n",
       "      <td> 2</td>\n",
       "      <td> Not a HOEPA loan</td>\n",
       "      <td> 1</td>\n",
       "      <td> Secured by a first lien</td>\n",
       "      <td> 3</td>\n",
       "      <td>   Refinancing</td>\n",
       "      <td> 1</td>\n",
       "      <td> Conventional</td>\n",
       "      <td> 1</td>\n",
       "      <td>     Owner-occupied as a principal dwelling</td>\n",
       "      <td> 3</td>\n",
       "      <td>            Not applicable</td>\n",
       "      <td> 1</td>\n",
       "      <td> One-to-four family dwelling (other than manufa...</td>\n",
       "      <td> 0</td>\n",
       "      <td> Loan was not originated or was not sold in cal...</td>\n",
       "      <td> 76700</td>\n",
       "      <td> 279</td>\n",
       "      <td> 2818</td>\n",
       "      <td> 2345</td>\n",
       "      <td> 4.58</td>\n",
       "      <td> 7144</td>\n",
       "      <td> 154.830002</td>\n",
       "      <td> 5.631212</td>\n",
       "      <td> 4.521789</td>\n",
       "    </tr>\n",
       "    <tr>\n",
       "      <th>2</th>\n",
       "      <td> 1</td>\n",
       "      <td> Loan originated</td>\n",
       "      <td> 5</td>\n",
       "      <td> NCUA</td>\n",
       "      <td>      National Credit Union Administration</td>\n",
       "      <td> 2</td>\n",
       "      <td> Not Hispanic or Latino</td>\n",
       "      <td> 106</td>\n",
       "      <td> 5</td>\n",
       "      <td> White</td>\n",
       "      <td> 1</td>\n",
       "      <td> Male</td>\n",
       "      <td>  29</td>\n",
       "      <td> 1</td>\n",
       "      <td>     Hispanic or Latino</td>\n",
       "      <td> 5</td>\n",
       "      <td> White</td>\n",
       "      <td> 2</td>\n",
       "      <td> Female</td>\n",
       "      <td>  7</td>\n",
       "      <td> Chittenden County</td>\n",
       "      <td> 2</td>\n",
       "      <td> Not a HOEPA loan</td>\n",
       "      <td> 1</td>\n",
       "      <td> Secured by a first lien</td>\n",
       "      <td> 1</td>\n",
       "      <td> Home purchase</td>\n",
       "      <td> 1</td>\n",
       "      <td> Conventional</td>\n",
       "      <td> 1</td>\n",
       "      <td>     Owner-occupied as a principal dwelling</td>\n",
       "      <td> 1</td>\n",
       "      <td> Preapproval was requested</td>\n",
       "      <td> 1</td>\n",
       "      <td> One-to-four family dwelling (other than manufa...</td>\n",
       "      <td> 1</td>\n",
       "      <td>                                 Fannie Mae (FNMA)</td>\n",
       "      <td> 76700</td>\n",
       "      <td> 244</td>\n",
       "      <td> 2447</td>\n",
       "      <td> 2136</td>\n",
       "      <td> 3.42</td>\n",
       "      <td> 6227</td>\n",
       "      <td> 124.199997</td>\n",
       "      <td> 5.497168</td>\n",
       "      <td> 4.663439</td>\n",
       "    </tr>\n",
       "  </tbody>\n",
       "</table>\n",
       "</div>"
      ],
      "text/plain": [
       "   action_taken action_taken_name  agency_code agency_abbr  \\\n",
       "0             1   Loan originated            1         OCC   \n",
       "1             1   Loan originated            1         OCC   \n",
       "2             1   Loan originated            5        NCUA   \n",
       "\n",
       "                                 agency_name  applicant_ethnicity  \\\n",
       "0  Office of the Comptroller of the Currency                    2   \n",
       "1  Office of the Comptroller of the Currency                    2   \n",
       "2       National Credit Union Administration                    2   \n",
       "\n",
       "  applicant_ethnicity_name  applicant_income_000s  applicant_race_1  \\\n",
       "0   Not Hispanic or Latino                    161                 5   \n",
       "1   Not Hispanic or Latino                     92                 2   \n",
       "2   Not Hispanic or Latino                    106                 5   \n",
       "\n",
       "  applicant_race_name_1  applicant_sex applicant_sex_name  \\\n",
       "0                 White              1               Male   \n",
       "1                 Asian              1               Male   \n",
       "2                 White              1               Male   \n",
       "\n",
       "   census_tract_number  co_applicant_ethnicity co_applicant_ethnicity_name  \\\n",
       "0                  201                       2      Not Hispanic or Latino   \n",
       "1                   34                       2      Not Hispanic or Latino   \n",
       "2                   29                       1          Hispanic or Latino   \n",
       "\n",
       "   co_applicant_race_1 co_applicant_race_name_1  co_applicant_sex  \\\n",
       "0                    5                    White                 2   \n",
       "1                    2                    Asian                 2   \n",
       "2                    5                    White                 2   \n",
       "\n",
       "  co_applicant_sex_name  county_code        county_name  hoepa_status  \\\n",
       "0                Female           13  Grand Isle County             2   \n",
       "1                Female            7  Chittenden County             2   \n",
       "2                Female            7  Chittenden County             2   \n",
       "\n",
       "  hoepa_status_name  lien_status         lien_status_name  loan_purpose  \\\n",
       "0  Not a HOEPA loan            1  Secured by a first lien             3   \n",
       "1  Not a HOEPA loan            1  Secured by a first lien             3   \n",
       "2  Not a HOEPA loan            1  Secured by a first lien             1   \n",
       "\n",
       "  loan_purpose_name  loan_type loan_type_name  owner_occupancy  \\\n",
       "0       Refinancing          1   Conventional                2   \n",
       "1       Refinancing          1   Conventional                1   \n",
       "2     Home purchase          1   Conventional                1   \n",
       "\n",
       "                         owner_occupancy_name  preapproval  \\\n",
       "0  Not owner-occupied as a principal dwelling            3   \n",
       "1      Owner-occupied as a principal dwelling            3   \n",
       "2      Owner-occupied as a principal dwelling            1   \n",
       "\n",
       "            preapproval_name  property_type  \\\n",
       "0             Not applicable              1   \n",
       "1             Not applicable              1   \n",
       "2  Preapproval was requested              1   \n",
       "\n",
       "                                  property_type_name  purchaser_type  \\\n",
       "0  One-to-four family dwelling (other than manufa...               1   \n",
       "1  One-to-four family dwelling (other than manufa...               0   \n",
       "2  One-to-four family dwelling (other than manufa...               1   \n",
       "\n",
       "                                 purchaser_type_name  \\\n",
       "0                                  Fannie Mae (FNMA)   \n",
       "1  Loan was not originated or was not sold in cal...   \n",
       "2                                  Fannie Mae (FNMA)   \n",
       "\n",
       "   hud_median_family_income  loan_amount_000s  number_of_1_to_4_family_units  \\\n",
       "0                     76700               200                           2681   \n",
       "1                     76700               279                           2818   \n",
       "2                     76700               244                           2447   \n",
       "\n",
       "   number_of_owner_occupied_units  minority_population  population  \\\n",
       "0                            1186                 7.12        3272   \n",
       "1                            2345                 4.58        7144   \n",
       "2                            2136                 3.42        6227   \n",
       "\n",
       "   tract_to_msamd_income  logloanamt  logincome  \n",
       "0              80.459999    5.298317   5.081404  \n",
       "1             154.830002    5.631212   4.521789  \n",
       "2             124.199997    5.497168   4.663439  "
      ]
     },
     "execution_count": 5,
     "metadata": {},
     "output_type": "execute_result"
    }
   ],
   "source": [
    "pd.set_option('display.max_columns', 80) \n",
    "ver.head(3)"
   ]
  },
  {
   "cell_type": "markdown",
   "metadata": {},
   "source": [
    "#### Determine the number of rows and columns in the dataset"
   ]
  },
  {
   "cell_type": "code",
   "execution_count": 6,
   "metadata": {
    "collapsed": false
   },
   "outputs": [
    {
     "data": {
      "text/plain": [
       "(34573, 46)"
      ]
     },
     "execution_count": 6,
     "metadata": {},
     "output_type": "execute_result"
    }
   ],
   "source": [
    "ver.shape"
   ]
  },
  {
   "cell_type": "markdown",
   "metadata": {},
   "source": [
    "#### Find the number of rows in the dataset"
   ]
  },
  {
   "cell_type": "code",
   "execution_count": 7,
   "metadata": {
    "collapsed": false
   },
   "outputs": [
    {
     "data": {
      "text/plain": [
       "34573"
      ]
     },
     "execution_count": 7,
     "metadata": {},
     "output_type": "execute_result"
    }
   ],
   "source": [
    "len(ver)"
   ]
  },
  {
   "cell_type": "markdown",
   "metadata": {},
   "source": [
    "#### Get the names of the columns"
   ]
  },
  {
   "cell_type": "code",
   "execution_count": 9,
   "metadata": {
    "collapsed": false
   },
   "outputs": [
    {
     "data": {
      "text/plain": [
       "Index([u'action_taken', u'action_taken_name', u'agency_code', u'agency_abbr', u'agency_name', u'applicant_ethnicity', u'applicant_ethnicity_name', u'applicant_income_000s', u'applicant_race_1', u'applicant_race_name_1', u'applicant_sex', u'applicant_sex_name', u'census_tract_number', u'co_applicant_ethnicity', u'co_applicant_ethnicity_name', u'co_applicant_race_1', u'co_applicant_race_name_1', u'co_applicant_sex', u'co_applicant_sex_name', u'county_code', u'county_name', u'hoepa_status', u'hoepa_status_name', u'lien_status', u'lien_status_name', u'loan_purpose', u'loan_purpose_name', u'loan_type', u'loan_type_name', u'owner_occupancy', u'owner_occupancy_name', u'preapproval', u'preapproval_name', u'property_type', u'property_type_name', u'purchaser_type', u'purchaser_type_name', u'hud_median_family_income', u'loan_amount_000s', u'number_of_1_to_4_family_units', u'number_of_owner_occupied_units', u'minority_population', u'population', u'tract_to_msamd_income', u'logloanamt', u'logincome'], dtype='object')"
      ]
     },
     "execution_count": 9,
     "metadata": {},
     "output_type": "execute_result"
    }
   ],
   "source": [
    "ver.columns"
   ]
  },
  {
   "cell_type": "markdown",
   "metadata": {},
   "source": [
    "#### Get the first five rows of a column by name"
   ]
  },
  {
   "cell_type": "code",
   "execution_count": 18,
   "metadata": {
    "collapsed": false
   },
   "outputs": [
    {
     "data": {
      "text/plain": [
       "0    1\n",
       "1    1\n",
       "2    1\n",
       "3    1\n",
       "4    1\n",
       "Name: action_taken, dtype: int64"
      ]
     },
     "execution_count": 18,
     "metadata": {},
     "output_type": "execute_result"
    }
   ],
   "source": [
    "ver['action_taken'][:5]"
   ]
  },
  {
   "cell_type": "markdown",
   "metadata": {},
   "source": [
    "#### Create categorical ranges for numerical data. Note that that you can specifiy the number of ranges you wish."
   ]
  },
  {
   "cell_type": "code",
   "execution_count": 19,
   "metadata": {
    "collapsed": false
   },
   "outputs": [
    {
     "data": {
      "text/plain": [
       "0    (-8.998, 715.143]\n",
       "1    (-8.998, 715.143]\n",
       "2    (-8.998, 715.143]\n",
       "3    (-8.998, 715.143]\n",
       "4    (-8.998, 715.143]\n",
       "Name: applicant_income_000s, dtype: category\n",
       "Categories (14, object): [(-8.998, 715.143] < (715.143, 1429.286] < (1429.286, 2143.429] < (2143.429, 2857.571] ... (7142.429, 7856.571] < (7856.571, 8570.714] < (8570.714, 9284.857] < (9284.857, 9999]]"
      ]
     },
     "execution_count": 19,
     "metadata": {},
     "output_type": "execute_result"
    }
   ],
   "source": [
    "incomeranges = pd.cut(ver['applicant_income_000s'], 14)\n",
    "incomeranges[:5]"
   ]
  },
  {
   "cell_type": "markdown",
   "metadata": {},
   "source": [
    "#### Look at the value counts in the ranges created above"
   ]
  },
  {
   "cell_type": "code",
   "execution_count": 20,
   "metadata": {
    "collapsed": false
   },
   "outputs": [
    {
     "data": {
      "text/plain": [
       "(-8.998, 715.143]       34306\n",
       "(715.143, 1429.286]       200\n",
       "(1429.286, 2143.429]       33\n",
       "(2143.429, 2857.571]       21\n",
       "(2857.571, 3571.714]        6\n",
       "(3571.714, 4285.857]        4\n",
       "(5714.143, 6428.286]        2\n",
       "(9284.857, 9999]            1\n",
       "(8570.714, 9284.857]        0\n",
       "(7856.571, 8570.714]        0\n",
       "(7142.429, 7856.571]        0\n",
       "(6428.286, 7142.429]        0\n",
       "(5000, 5714.143]            0\n",
       "(4285.857, 5000]            0\n",
       "dtype: int64"
      ]
     },
     "execution_count": 20,
     "metadata": {},
     "output_type": "execute_result"
    }
   ],
   "source": [
    "pd.value_counts(incomeranges)"
   ]
  },
  {
   "cell_type": "markdown",
   "metadata": {},
   "source": [
    "#### Index into the first six columns of the first row"
   ]
  },
  {
   "cell_type": "code",
   "execution_count": 21,
   "metadata": {
    "collapsed": false
   },
   "outputs": [
    {
     "data": {
      "text/plain": [
       "action_taken                                                   1\n",
       "action_taken_name                                Loan originated\n",
       "agency_code                                                    1\n",
       "agency_abbr                                                  OCC\n",
       "agency_name            Office of the Comptroller of the Currency\n",
       "applicant_ethnicity                                            2\n",
       "Name: 0, dtype: object"
      ]
     },
     "execution_count": 21,
     "metadata": {},
     "output_type": "execute_result"
    }
   ],
   "source": [
    "ver.ix[0,0:6]"
   ]
  },
  {
   "cell_type": "markdown",
   "metadata": {},
   "source": [
    "#### Order the data by specified column"
   ]
  },
  {
   "cell_type": "code",
   "execution_count": 22,
   "metadata": {
    "collapsed": false
   },
   "outputs": [
    {
     "data": {
      "text/plain": [
       "4193     1\n",
       "32737    1\n",
       "32965    1\n",
       "34335    1\n",
       "34342    1\n",
       "Name: loan_amount_000s, dtype: int64"
      ]
     },
     "execution_count": 22,
     "metadata": {},
     "output_type": "execute_result"
    }
   ],
   "source": [
    "ver['loan_amount_000s'].order()[:5]"
   ]
  },
  {
   "cell_type": "markdown",
   "metadata": {},
   "source": [
    "#### Sort by a column and that obtain a cross-section of that data"
   ]
  },
  {
   "cell_type": "code",
   "execution_count": 23,
   "metadata": {
    "collapsed": false
   },
   "outputs": [
    {
     "data": {
      "text/html": [
       "<div style=\"max-height:1000px;max-width:1500px;overflow:auto;\">\n",
       "<table border=\"1\" class=\"dataframe\">\n",
       "  <thead>\n",
       "    <tr style=\"text-align: right;\">\n",
       "      <th></th>\n",
       "      <th>action_taken</th>\n",
       "      <th>action_taken_name</th>\n",
       "      <th>agency_code</th>\n",
       "      <th>agency_abbr</th>\n",
       "      <th>agency_name</th>\n",
       "      <th>applicant_ethnicity</th>\n",
       "    </tr>\n",
       "  </thead>\n",
       "  <tbody>\n",
       "    <tr>\n",
       "      <th>4193 </th>\n",
       "      <td> 1</td>\n",
       "      <td>                   Loan originated</td>\n",
       "      <td> 5</td>\n",
       "      <td> NCUA</td>\n",
       "      <td> National Credit Union Administration</td>\n",
       "      <td> 2</td>\n",
       "    </tr>\n",
       "    <tr>\n",
       "      <th>32737</th>\n",
       "      <td> 6</td>\n",
       "      <td> Loan purchased by the institution</td>\n",
       "      <td> 9</td>\n",
       "      <td> CFPB</td>\n",
       "      <td> Consumer Financial Protection Bureau</td>\n",
       "      <td> 3</td>\n",
       "    </tr>\n",
       "    <tr>\n",
       "      <th>32965</th>\n",
       "      <td> 6</td>\n",
       "      <td> Loan purchased by the institution</td>\n",
       "      <td> 9</td>\n",
       "      <td> CFPB</td>\n",
       "      <td> Consumer Financial Protection Bureau</td>\n",
       "      <td> 3</td>\n",
       "    </tr>\n",
       "  </tbody>\n",
       "</table>\n",
       "</div>"
      ],
      "text/plain": [
       "       action_taken                  action_taken_name  agency_code  \\\n",
       "4193              1                    Loan originated            5   \n",
       "32737             6  Loan purchased by the institution            9   \n",
       "32965             6  Loan purchased by the institution            9   \n",
       "\n",
       "      agency_abbr                           agency_name  applicant_ethnicity  \n",
       "4193         NCUA  National Credit Union Administration                    2  \n",
       "32737        CFPB  Consumer Financial Protection Bureau                    3  \n",
       "32965        CFPB  Consumer Financial Protection Bureau                    3  "
      ]
     },
     "execution_count": 23,
     "metadata": {},
     "output_type": "execute_result"
    }
   ],
   "source": [
    "sorteddata = ver.sort(['loan_amount_000s'])\n",
    "sorteddata.ix[:,0:6].head(3)"
   ]
  },
  {
   "cell_type": "markdown",
   "metadata": {},
   "source": [
    "#### Obtain the first three rows and first three columns of the sorted data"
   ]
  },
  {
   "cell_type": "code",
   "execution_count": 24,
   "metadata": {
    "collapsed": false
   },
   "outputs": [
    {
     "data": {
      "text/html": [
       "<div style=\"max-height:1000px;max-width:1500px;overflow:auto;\">\n",
       "<table border=\"1\" class=\"dataframe\">\n",
       "  <thead>\n",
       "    <tr style=\"text-align: right;\">\n",
       "      <th></th>\n",
       "      <th>action_taken</th>\n",
       "      <th>action_taken_name</th>\n",
       "      <th>agency_code</th>\n",
       "    </tr>\n",
       "  </thead>\n",
       "  <tbody>\n",
       "    <tr>\n",
       "      <th>4193 </th>\n",
       "      <td> 1</td>\n",
       "      <td>                   Loan originated</td>\n",
       "      <td> 5</td>\n",
       "    </tr>\n",
       "    <tr>\n",
       "      <th>32737</th>\n",
       "      <td> 6</td>\n",
       "      <td> Loan purchased by the institution</td>\n",
       "      <td> 9</td>\n",
       "    </tr>\n",
       "    <tr>\n",
       "      <th>32965</th>\n",
       "      <td> 6</td>\n",
       "      <td> Loan purchased by the institution</td>\n",
       "      <td> 9</td>\n",
       "    </tr>\n",
       "  </tbody>\n",
       "</table>\n",
       "</div>"
      ],
      "text/plain": [
       "       action_taken                  action_taken_name  agency_code\n",
       "4193              1                    Loan originated            5\n",
       "32737             6  Loan purchased by the institution            9\n",
       "32965             6  Loan purchased by the institution            9"
      ]
     },
     "execution_count": 24,
     "metadata": {},
     "output_type": "execute_result"
    }
   ],
   "source": [
    "sorteddata.iloc[0:3,0:3]"
   ]
  },
  {
   "cell_type": "code",
   "execution_count": null,
   "metadata": {
    "collapsed": true
   },
   "outputs": [],
   "source": [
    "#### Obtain value counts of specific column"
   ]
  },
  {
   "cell_type": "code",
   "execution_count": 25,
   "metadata": {
    "collapsed": false
   },
   "outputs": [
    {
     "data": {
      "text/plain": [
       "Loan originated                                21852\n",
       "Application denied by financial institution     4894\n",
       "Application withdrawn by applicant              2759\n",
       "Loan purchased by the institution               2671\n",
       "Application approved but not accepted           1421\n",
       "File closed for incompleteness                   976\n",
       "dtype: int64"
      ]
     },
     "execution_count": 25,
     "metadata": {},
     "output_type": "execute_result"
    }
   ],
   "source": [
    "ver['action_taken_name'].value_counts()"
   ]
  },
  {
   "cell_type": "markdown",
   "metadata": {},
   "source": [
    "#### A way to obtain the datatype for every column"
   ]
  },
  {
   "cell_type": "code",
   "execution_count": 26,
   "metadata": {
    "collapsed": false
   },
   "outputs": [
    {
     "data": {
      "text/plain": [
       "[('action_taken', numpy.int64),\n",
       " ('action_taken_name', str),\n",
       " ('agency_code', numpy.int64),\n",
       " ('agency_abbr', str),\n",
       " ('agency_name', str),\n",
       " ('applicant_ethnicity', numpy.int64),\n",
       " ('applicant_ethnicity_name', str),\n",
       " ('applicant_income_000s', numpy.int64),\n",
       " ('applicant_race_1', numpy.int64),\n",
       " ('applicant_race_name_1', str),\n",
       " ('applicant_sex', numpy.int64),\n",
       " ('applicant_sex_name', str),\n",
       " ('census_tract_number', numpy.float64),\n",
       " ('co_applicant_ethnicity', numpy.int64),\n",
       " ('co_applicant_ethnicity_name', str),\n",
       " ('co_applicant_race_1', numpy.int64),\n",
       " ('co_applicant_race_name_1', str),\n",
       " ('co_applicant_sex', numpy.int64),\n",
       " ('co_applicant_sex_name', str),\n",
       " ('county_code', numpy.int64),\n",
       " ('county_name', str),\n",
       " ('hoepa_status', numpy.int64),\n",
       " ('hoepa_status_name', str),\n",
       " ('lien_status', numpy.int64),\n",
       " ('lien_status_name', str),\n",
       " ('loan_purpose', numpy.int64),\n",
       " ('loan_purpose_name', str),\n",
       " ('loan_type', numpy.int64),\n",
       " ('loan_type_name', str),\n",
       " ('owner_occupancy', numpy.int64),\n",
       " ('owner_occupancy_name', str),\n",
       " ('preapproval', numpy.int64),\n",
       " ('preapproval_name', str),\n",
       " ('property_type', numpy.int64),\n",
       " ('property_type_name', str),\n",
       " ('purchaser_type', numpy.int64),\n",
       " ('purchaser_type_name', str),\n",
       " ('hud_median_family_income', numpy.int64),\n",
       " ('loan_amount_000s', numpy.int64),\n",
       " ('number_of_1_to_4_family_units', numpy.int64),\n",
       " ('number_of_owner_occupied_units', numpy.int64),\n",
       " ('minority_population', numpy.float64),\n",
       " ('population', numpy.int64),\n",
       " ('tract_to_msamd_income', numpy.float64),\n",
       " ('logloanamt', numpy.float64),\n",
       " ('logincome', numpy.float64)]"
      ]
     },
     "execution_count": 26,
     "metadata": {},
     "output_type": "execute_result"
    }
   ],
   "source": [
    "zip(ver.columns, [type(x) for x in ver.ix[0,:]])"
   ]
  },
  {
   "cell_type": "markdown",
   "metadata": {},
   "source": [
    "#### The Pandas way to obtain datatypes for every column"
   ]
  },
  {
   "cell_type": "code",
   "execution_count": 5,
   "metadata": {
    "collapsed": false
   },
   "outputs": [
    {
     "data": {
      "text/plain": [
       "action_taken                        int64\n",
       "action_taken_name                  object\n",
       "agency_code                         int64\n",
       "agency_abbr                        object\n",
       "agency_name                        object\n",
       "applicant_ethnicity                 int64\n",
       "applicant_ethnicity_name           object\n",
       "applicant_income_000s               int64\n",
       "applicant_race_1                    int64\n",
       "applicant_race_name_1              object\n",
       "applicant_sex                       int64\n",
       "applicant_sex_name                 object\n",
       "census_tract_number               float64\n",
       "co_applicant_ethnicity              int64\n",
       "co_applicant_ethnicity_name        object\n",
       "co_applicant_race_1                 int64\n",
       "co_applicant_race_name_1           object\n",
       "co_applicant_sex                    int64\n",
       "co_applicant_sex_name              object\n",
       "county_code                         int64\n",
       "county_name                        object\n",
       "hoepa_status                        int64\n",
       "hoepa_status_name                  object\n",
       "lien_status                         int64\n",
       "lien_status_name                   object\n",
       "loan_purpose                        int64\n",
       "loan_purpose_name                  object\n",
       "loan_type                           int64\n",
       "loan_type_name                     object\n",
       "owner_occupancy                     int64\n",
       "owner_occupancy_name               object\n",
       "preapproval                         int64\n",
       "preapproval_name                   object\n",
       "property_type                       int64\n",
       "property_type_name                 object\n",
       "purchaser_type                      int64\n",
       "purchaser_type_name                object\n",
       "hud_median_family_income            int64\n",
       "loan_amount_000s                    int64\n",
       "number_of_1_to_4_family_units       int64\n",
       "number_of_owner_occupied_units      int64\n",
       "minority_population               float64\n",
       "population                          int64\n",
       "tract_to_msamd_income             float64\n",
       "logloanamt                        float64\n",
       "logincome                         float64\n",
       "dtype: object"
      ]
     },
     "execution_count": 5,
     "metadata": {},
     "output_type": "execute_result"
    }
   ],
   "source": [
    "ver.dtypes"
   ]
  },
  {
   "cell_type": "markdown",
   "metadata": {},
   "source": [
    "#### Get the unique values for a column by name."
   ]
  },
  {
   "cell_type": "code",
   "execution_count": 27,
   "metadata": {
    "collapsed": false
   },
   "outputs": [
    {
     "data": {
      "text/plain": [
       "array(['Grand Isle County', 'Chittenden County', 'Washington County',\n",
       "       'Franklin County', 'Caledonia County', 'Addison County',\n",
       "       'Orange County', 'Orleans County', 'Rutland County',\n",
       "       'Windham County', 'Lamoille County', 'Windsor County',\n",
       "       'Bennington County', 'Essex County'], dtype=object)"
      ]
     },
     "execution_count": 27,
     "metadata": {},
     "output_type": "execute_result"
    }
   ],
   "source": [
    "ver['county_name'].unique()"
   ]
  },
  {
   "cell_type": "markdown",
   "metadata": {},
   "source": [
    "#### Get a count of the unique values of a column"
   ]
  },
  {
   "cell_type": "code",
   "execution_count": 28,
   "metadata": {
    "collapsed": false
   },
   "outputs": [
    {
     "data": {
      "text/plain": [
       "14"
      ]
     },
     "execution_count": 28,
     "metadata": {},
     "output_type": "execute_result"
    }
   ],
   "source": [
    "len(ver['county_name'].unique())"
   ]
  },
  {
   "cell_type": "markdown",
   "metadata": {},
   "source": [
    "#### Index into a column and get the first four rows"
   ]
  },
  {
   "cell_type": "code",
   "execution_count": 31,
   "metadata": {
    "collapsed": false
   },
   "outputs": [
    {
     "data": {
      "text/plain": [
       "0               Not applicable\n",
       "1               Not applicable\n",
       "2    Preapproval was requested\n",
       "3               Not applicable\n",
       "Name: preapproval_name, dtype: object"
      ]
     },
     "execution_count": 31,
     "metadata": {},
     "output_type": "execute_result"
    }
   ],
   "source": [
    "ver.ix[0:3,'preapproval_name']"
   ]
  },
  {
   "cell_type": "markdown",
   "metadata": {},
   "source": [
    "#### Obtain binary values"
   ]
  },
  {
   "cell_type": "code",
   "execution_count": 32,
   "metadata": {
    "collapsed": false
   },
   "outputs": [
    {
     "data": {
      "text/plain": [
       "0    False\n",
       "1    False\n",
       "2     True\n",
       "3    False\n",
       "Name: preapproval_name, dtype: bool"
      ]
     },
     "execution_count": 32,
     "metadata": {},
     "output_type": "execute_result"
    }
   ],
   "source": [
    "ver.ix[0:3,'preapproval_name'] == \"Preapproval was requested\""
   ]
  },
  {
   "cell_type": "code",
   "execution_count": null,
   "metadata": {
    "collapsed": false
   },
   "outputs": [],
   "source": []
  }
 ],
 "metadata": {
  "kernelspec": {
   "display_name": "Python 2",
   "language": "python",
   "name": "python2"
  },
  "language_info": {
   "codemirror_mode": {
    "name": "ipython",
    "version": 2
   },
   "file_extension": ".py",
   "mimetype": "text/x-python",
   "name": "python",
   "nbconvert_exporter": "python",
   "pygments_lexer": "ipython2",
   "version": "2.7.6"
  }
 },
 "nbformat": 4,
 "nbformat_minor": 0
}
